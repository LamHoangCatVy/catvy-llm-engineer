{
 "cells": [
  {
   "cell_type": "markdown",
   "id": "d15d8294-3328-4e07-ad16-8a03e9bbfdb9",
   "metadata": {},
   "source": [
    "# Instant Gratification!\n",
    "\n",
    "Let's build a useful LLM solution - in a matter of minutes.\n",
    "\n",
    "By the end of this course, you will have built an autonomous Agentic AI solution with 7 agents that collaborate to solve a business problem. All in good time! We will start with something smaller...\n",
    "\n",
    "Our goal is to code a new kind of Web Browser. Give it a URL, and it will respond with a summary. The Reader's Digest of the internet!!\n",
    "\n",
    "Before starting, be sure to have followed the instructions in the \"README\" file, including creating your API key with OpenAI and adding it to the `.env` file.\n",
    "\n",
    "## If you're new to Jupyer Lab\n",
    "\n",
    "Welcome to the wonderful world of Data Science experimentation! Once you've used Jupyter Lab, you'll wonder how you ever lived without it. Simply click in each \"cell\" with code in it, such as the cell immediately below this text, and hit Shift+Return to execute that cell. As you wish, you can add a cell with the + button in the toolbar, and print values of variables, or try out variations.\n",
    "\n",
    "If you need to start a 'notebook' again, go to Kernel menu >> Restart kernel.\n",
    "\n",
    "## I am here to help\n",
    "\n",
    "If you have any problems at all, please do reach out.  \n",
    "I'm available through the platform, or at ed@edwarddonner.com, or at https://www.linkedin.com/in/eddonner/ if you'd like to connect.\n",
    "\n",
    "## More troubleshooting\n",
    "\n",
    "Please see the [troubleshooting](troubleshooting.ipynb) notebook in this folder for more ideas!\n",
    "\n",
    "## Business value of these exercises\n",
    "\n",
    "A final thought. While I've designed these notebooks to be educational, I've also tried to make them enjoyable. We'll do fun things like have LLMs tell jokes and argue with each other. But fundamentally, my goal is to teach skills you can apply in business. I'll explain business implications as we go, and it's worth keeping this in mind: as you build experience with models and techniques, think of ways you could put this into action at work today. Please do contact me if you'd like to discuss more or if you have ideas to bounce off me."
   ]
  },
  {
   "cell_type": "code",
   "execution_count": 1,
   "id": "4e2a9393-7767-488e-a8bf-27c12dca35bd",
   "metadata": {},
   "outputs": [],
   "source": [
    "# imports\n",
    "\n",
    "import os\n",
    "import requests\n",
    "from dotenv import load_dotenv\n",
    "from bs4 import BeautifulSoup\n",
    "from IPython.display import Markdown, display\n",
    "from openai import OpenAI"
   ]
  },
  {
   "cell_type": "markdown",
   "id": "6900b2a8-6384-4316-8aaa-5e519fca4254",
   "metadata": {},
   "source": [
    "# Connecting to OpenAI\n",
    "\n",
    "The next cell is where we load in the environment variables in your `.env` file and connect to OpenAI.\n",
    "\n",
    "## Troubleshooting if you have problems:\n",
    "\n",
    "1. OpenAI takes a few minutes to register after you set up an account. If you receive an error about being over quota, try waiting a few minutes and try again.\n",
    "2. Also, double check you have the right kind of API token with the right permissions. You should find it on [this webpage](https://platform.openai.com/api-keys) and it should show with Permissions of \"All\". If not, try creating another key by:\n",
    "- Pressing \"Create new secret key\" on the top right\n",
    "- Select **Owned by:** you, **Project:** Default project, **Permissions:** All\n",
    "- Click Create secret key, and use that new key in the code and the `.env` file (it might take a few minutes to activate)\n",
    "- Do a Kernel >> Restart kernel, and execute the cells in this Jupyter lab starting at the top\n",
    "4. As a fallback, replace the line `openai = OpenAI()` with `openai = OpenAI(api_key=\"your-key-here\")` - while it's not recommended to hard code tokens in Jupyter lab, because then you can't share your lab with others, it's a workaround for now\n",
    "5. See the [troubleshooting](troubleshooting.ipynb) notebook in this folder for more instructions\n",
    "6. Contact me! Message me or email ed@edwarddonner.com and we will get this to work.\n",
    "\n",
    "Any concerns about API costs? See my notes in the README - costs should be minimal, and you can control it at every point."
   ]
  },
  {
   "cell_type": "code",
   "execution_count": 2,
   "id": "7b87cadb-d513-4303-baee-a37b6f938e4d",
   "metadata": {},
   "outputs": [],
   "source": [
    "# Load environment variables in a file called .env\n",
    "\n",
    "load_dotenv()\n",
    "os.environ['OPENAI_API_KEY'] = os.getenv('OPENAI_API_KEY', 'your-key-if-not-using-env')\n",
    "openai = OpenAI()\n",
    "\n",
    "# Uncomment the below line if this gives you any problems:\n",
    "# openai = OpenAI(api_key=\"your-key-here\")"
   ]
  },
  {
   "cell_type": "code",
   "execution_count": 3,
   "id": "c5e793b2-6775-426a-a139-4848291d0463",
   "metadata": {},
   "outputs": [],
   "source": [
    "# A class to represent a Webpage\n",
    "\n",
    "class Website:\n",
    "    url: str\n",
    "    title: str\n",
    "    text: str\n",
    "\n",
    "    def __init__(self, url):\n",
    "        self.url = url\n",
    "        response = requests.get(url)\n",
    "        soup = BeautifulSoup(response.content, 'html.parser')\n",
    "        self.title = soup.title.string if soup.title else \"No title found\"\n",
    "        for irrelevant in soup.body([\"script\", \"style\", \"img\", \"input\"]):\n",
    "            irrelevant.decompose()\n",
    "        self.text = soup.body.get_text(separator=\"\\n\", strip=True)"
   ]
  },
  {
   "cell_type": "code",
   "execution_count": 6,
   "id": "2ef960cf-6dc2-4cda-afb3-b38be12f4c97",
   "metadata": {},
   "outputs": [
    {
     "name": "stdout",
     "output_type": "stream",
     "text": [
      "What is AWS? – Learning Portfolio\n",
      "Lam Hoang Cat Vy\n",
      "About Me\n",
      "About Me\n",
      "AWS workshops\n",
      "Historic Research Hobbies\n",
      "Historic Research Hobbies\n",
      "GitHub\n",
      "GitHub\n",
      "(opens in a new tab)\n",
      "Discord\n",
      "Discord\n",
      "(opens in a new tab)\n",
      "Foreword\n",
      "AWS Overview and Security\n",
      "Introduction to AWS\n",
      "AWS Global Infrastructure\n",
      "Interacting with AWS\n",
      "Security Model and the AWS Shared Responsibility Model\n",
      "Protect the Root User\n",
      "Introduction to AWS Identity and Access Management (IAM)\n",
      "Role Based Access in AWS\n",
      "AWS Compute and Networking\n",
      "Compute as a Services on AWS\n",
      "Introduction to Amazon Elastic Compute Cloud (EC2)\n",
      "Amazon EC2 Instance Lifecycle\n",
      "Container Services on AWS\n",
      "Serverless and AWS Lambda\n",
      "Networking on AWS\n",
      "Introduction to Amazon VPC\n",
      "Amazon VPC Routing and Security\n",
      "CLF-C02 Recap\n",
      "What is Client-Server Model?\n",
      "Deployment Models for Cloud Computing\n",
      "Benefits of Cloud Computing\n",
      "Amazon Elastic Compute Cloud (Amazon EC2)\n",
      "Amazon EC2 Instance Types\n",
      "Amazon EC2 Pricing\n",
      "Scaling Amazon EC2 (Part 1)\n",
      "Scaling Amazon EC2 (Part 2)\n",
      "Elastic Load Balancer\n",
      "Monolithic Applications and Microservices\n",
      "Amazon Simple Notification Service (Amazon SNS)\n",
      "Amaon Simple Queue Service (Amazon SQS)\n",
      "Serverless Computing\n",
      "Selecting a Region\n",
      "Availability Zones\n",
      "Edge Locations\n",
      "Ways to Interact with AWS Services\n",
      "AWS Elastic Beanstalk and AWS CloudFormation\n",
      "Connectivity to AWS\n",
      "Subnets and Network Access Control Lists\n",
      "Global Networking\n",
      "Instance Stores and Amazon Elastic Block Store (Amazon EBS)\n",
      "Amazon Simple Storage Service (Amazon S3)\n",
      "Amazon Elastic File System (Amazon EFS)\n",
      "Amazon Relational Database Service (Amazon RDS)\n",
      "Amazon DynamoDB\n",
      "Amazon Redshift\n",
      "Amazon Database Migration Service (Amazon DMS)\n",
      "Additional Database Services\n",
      "Shared Responsibility Model\n",
      "User Permission and Access\n",
      "AWS Organizations\n",
      "Compliance\n",
      "Denial-of-Service Attakcs\n",
      "Additional Security Services\n",
      "Amazon CloudWatch\n",
      "Amazon CloudTrail\n",
      "AWS Trusted Advisor\n",
      "AWS Free Tier\n",
      "Pricing Concept\n",
      "Billing Dashboard\n",
      "Consolidated Billing\n",
      "AWS Budgets\n",
      "AWS Cost Explorer\n",
      "AWS Support Plans\n",
      "AWS Marketplace\n",
      "AWS Cloud Adoption Framework (AWS CAF)\n",
      "Migration Strategies\n",
      "AWS Snow Family\n",
      "Innovation with AWS\n",
      "The AWS Well-Architected Framework\n",
      "monitoring-and-optimization\n",
      "Monitoring on AWS\n",
      "Introduction to Amazon CloudWatch\n",
      "Optimizing Solutions on AWS\n",
      "Route Traffic with Amazon Elastic Load Balancing\n",
      "Amazon EC2 Auto Scaling\n",
      "storage-and-databases\n",
      "Storage Types on AWS\n",
      "Amazon EC2 Instance Storage and Amazon Elastic Block Store\n",
      "Object Storage with Amazon S3\n",
      "Choosing the Right Storage Service\n",
      "Explore Databases on AWS\n",
      "Amazon Relational Database Service\n",
      "Introduction to Amazon DynaomDB\n",
      "Choose the Right AWS Database Service\n",
      "Foreword\n",
      "About Me\n",
      "AWS Overview and Security\n",
      "Introduction to AWS\n",
      "WHAT IS THE CLOUD?\n",
      "THE 6 BENEFITS OF CLOUD COMPUTING\n",
      "AWS Global Infrastructure\n",
      "Interacting with AWS\n",
      "Security Model and the AWS Shared Responsibility Model\n",
      "Protect the Root User\n",
      "Introduction to AWS Identity and Access Management (IAM)\n",
      "Role Based Access in AWS\n",
      "AWS Compute and Networking\n",
      "Compute as a Services on AWS\n",
      "Introduction to Amazon Elastic Compute Cloud (EC2)\n",
      "Amazon EC2 Instance Lifecycle\n",
      "Container Services on AWS\n",
      "Serverless and AWS Lambda\n",
      "Networking on AWS\n",
      "Introduction to Amazon VPC\n",
      "Amazon VPC Routing and Security\n",
      "AWS workshops\n",
      "Workshop 1: Terraform IAM\n",
      "CLF-C02 Recap\n",
      "What is Client-Server Model?\n",
      "Deployment Models for Cloud Computing\n",
      "Benefits of Cloud Computing\n",
      "Amazon Elastic Compute Cloud (Amazon EC2)\n",
      "Amazon EC2 Instance Types\n",
      "Amazon EC2 Pricing\n",
      "Scaling Amazon EC2 (Part 1)\n",
      "Scaling Amazon EC2 (Part 2)\n",
      "Elastic Load Balancer\n",
      "Monolithic Applications and Microservices\n",
      "Amazon Simple Notification Service (Amazon SNS)\n",
      "Amaon Simple Queue Service (Amazon SQS)\n",
      "Serverless Computing\n",
      "Selecting a Region\n",
      "Availability Zones\n",
      "Edge Locations\n",
      "Ways to Interact with AWS Services\n",
      "AWS Elastic Beanstalk and AWS CloudFormation\n",
      "Connectivity to AWS\n",
      "Subnets and Network Access Control Lists\n",
      "Global Networking\n",
      "Instance Stores and Amazon Elastic Block Store (Amazon EBS)\n",
      "Amazon Simple Storage Service (Amazon S3)\n",
      "Amazon Elastic File System (Amazon EFS)\n",
      "Amazon Relational Database Service (Amazon RDS)\n",
      "Amazon DynamoDB\n",
      "Amazon Redshift\n",
      "Amazon Database Migration Service (Amazon DMS)\n",
      "Additional Database Services\n",
      "Shared Responsibility Model\n",
      "User Permission and Access\n",
      "AWS Organizations\n",
      "Compliance\n",
      "Denial-of-Service Attakcs\n",
      "Additional Security Services\n",
      "Amazon CloudWatch\n",
      "Amazon CloudTrail\n",
      "AWS Trusted Advisor\n",
      "AWS Free Tier\n",
      "Pricing Concept\n",
      "Billing Dashboard\n",
      "Consolidated Billing\n",
      "AWS Budgets\n",
      "AWS Cost Explorer\n",
      "AWS Support Plans\n",
      "AWS Marketplace\n",
      "AWS Cloud Adoption Framework (AWS CAF)\n",
      "Migration Strategies\n",
      "AWS Snow Family\n",
      "Innovation with AWS\n",
      "The AWS Well-Architected Framework\n",
      "Historic Research Hobbies\n",
      "Foreword\n",
      "EP1: Antiquity and the Gods\n",
      "Megaliths\n",
      "Mesopotamia and Persia\n",
      "Summerian Ziggurats\n",
      "monitoring-and-optimization\n",
      "Monitoring on AWS\n",
      "Introduction to Amazon CloudWatch\n",
      "Optimizing Solutions on AWS\n",
      "Route Traffic with Amazon Elastic Load Balancing\n",
      "Amazon EC2 Auto Scaling\n",
      "storage-and-databases\n",
      "Storage Types on AWS\n",
      "Amazon EC2 Instance Storage and Amazon Elastic Block Store\n",
      "Object Storage with Amazon S3\n",
      "Choosing the Right Storage Service\n",
      "Explore Databases on AWS\n",
      "Amazon Relational Database Service\n",
      "Introduction to Amazon DynaomDB\n",
      "Choose the Right AWS Database Service\n",
      "light\n",
      "On This Page\n",
      "WHAT IS THE CLOUD?\n",
      "THE 6 BENEFITS OF CLOUD COMPUTING\n",
      "Question? Give us feedback →\n",
      "(opens in a new tab)\n",
      "Edit this page\n",
      "AWS Overview and Security\n",
      "Introduction to AWS\n",
      "What is AWS?\n",
      "WHAT IS THE CLOUD?\n",
      "In the past, companies and organizations hosted and maintained hardware such as compute, storage, and networking equipment in their own data centers. They needed to allocate entire infrastructure departments to take care of them, resulting in a costly operation that made some workloads and experimentation impossible.\n",
      "As internet usage became more widespread, the demand for compute, storage, and networking equipment increased. For some companies and organizations, the cost of maintaining a large physical presence was unsustainable. To solve this problem, cloud computing was created.\n",
      "Cloud computing is the on-demand delivery of IT resources over the internet with pay-as-you-go pricing. You no longer have to manage and maintain your own hardware in your own data centers. Companies like AWS own and maintain these data centers and provide virtualized data center technologies and services to users over the internet.\n",
      "To help differentiate between running workloads on-premises versus in the cloud, consider the scenario where your developers need to deploy a new feature on your application. Before they deploy, the team wants to test the feature in a separate quality assurance (QA) environment that has the exact same configurations as production.\n",
      "If you run your application on-premises, creating this additional environment requires you to buy and install hardware, connect the necessary cabling, provision power, install operating systems, and more. All of these tasks can be time-consuming and take days to perform. Meanwhile, the new product feature’s time-to-market is increasing and your developers are waiting for this environment.\n",
      "If you ran your application in the cloud, you can replicate the entire environment as often as needed in a matter of minutes or even seconds. Instead of physically installing hardware and connecting cabling, you can logically manage your physical infrastructure over the internet.\n",
      "Using cloud computing not only saves your time from the set-up perspective, but it also removes the\n",
      "undifferentiated heavy lifting\n",
      ". If you look at any application, you’ll see that some of the aspects of it are very important to your business, like the code.\n",
      "However, there are other aspects that are no different than any other applications you might make: for instance the compute the code runs on. By removing repetitive common tasks that don’t differentiate your business, like installing virtual machines, or storing backups, you can focus on what is strategically unique to your business and let AWS handle the tasks that are time consuming and don’t separate you from your competitors.\n",
      "So where does AWS fit into all of this? It simply just provides cloud computing services. Those IT resources mentioned in the cloud computing definitions are AWS services in this case. We’ll need to use these AWS services to architect a scalable, highly available, and cost effective infrastructure to host our corporate directory application. This way we can get our corporate directory app out into the world quickly without having to manage any heavy-duty physical hardware. There are the six main advantages to running your workloads on AWS.\n",
      "THE 6 BENEFITS OF CLOUD COMPUTING\n",
      "Pay as you go\n",
      ". Instead of investing in data centers and hardware before you know how you are going to use the, you pay only when you use computing resources, and pay only for how much you use.\n",
      "Benefit from massive economies of scale\n",
      ". By using cloud computing, you can achieve a lower cost than you can get on your own. Because usage from hundreds of thousands of customers is aggregated in the cloud, AWS can achieve higher economies of scale, which translates into lower pay-as-you-go prices.\n",
      "Stop guessing capacity\n",
      ". Eliminate guessing on your infrastructure capacity needs. When you make a capacity decisions prior to deploying an application, you often end up either sitting on expensive idle resources or dealing with limited capacity. With cloud computing, these problems go away. You can access as much or as little capacity as you need, and scale up and down as required with only a few minutes notice.\n",
      "Increases speed and agility\n",
      ". IT resources are only a click away, which means that you reduce the time to make those resources available to your developers from weeks to just minutes. This results in a dramatic increase in agility for the organization since the cost and time it takes to experiment and develop is significantly lower.\n",
      "Stop spending money running and maintaining data centers\n",
      ". Focus on projects that differentiate your business, not the infrastructure. Cloud computing lets you focus on your customers, rather than on the heavy lifting of racking, stacking, and powering physical infrastructure. This is often referred to as undifferentiated heavy lifting.\n",
      "Go global in minutes\n",
      ". Easily deploy your application in multiple Regions around the world with just a few clicks. This means you can provide lower latency and a better experience for your customers at a minimal cost.\n",
      "Foreword\n",
      "AWS Global Infrastructure\n",
      "light\n",
      "Lam Hoang Cat Vy's Learning Portfolio\n"
     ]
    }
   ],
   "source": [
    "# Let's try one out\n",
    "\n",
    "vyBlog = Website(\"https://www.catvy.blog/overview-and-security/introduction\")\n",
    "print(vyBlog.title)\n",
    "print(vyBlog.text)"
   ]
  },
  {
   "cell_type": "markdown",
   "id": "6a478a0c-2c53-48ff-869c-4d08199931e1",
   "metadata": {},
   "source": [
    "## Types of prompts\n",
    "\n",
    "You may know this already - but if not, you will get very familiar with it!\n",
    "\n",
    "Models like GPT4o have been trained to receive instructions in a particular way.\n",
    "\n",
    "They expect to receive:\n",
    "\n",
    "**A system prompt** that tells them what task they are performing and what tone they should use\n",
    "\n",
    "**A user prompt** -- the conversation starter that they should reply to"
   ]
  },
  {
   "cell_type": "code",
   "execution_count": 17,
   "id": "abdb8417-c5dc-44bc-9bee-2e059d162699",
   "metadata": {},
   "outputs": [],
   "source": [
    "system_prompt = \"\"\"You are an assistant that analyzes the contents of a website \\\n",
    "and provides a short summary, ignoring text that might be navigation related. \\\n",
    "Respond in markdown.\n",
    "If the web url is equal to `https://lamhoangcatvy.github.io/chi-vu`, then response as \"Web này nói là Cát Vy yêu Chi Vũ siêu cấp vũ trụ\"\n",
    "\"\"\""
   ]
  },
  {
   "cell_type": "code",
   "execution_count": 18,
   "id": "f0275b1b-7cfe-4f9d-abfa-7650d378da0c",
   "metadata": {},
   "outputs": [],
   "source": [
    "def user_prompt_for(website):\n",
    "    user_prompt = f\"You are looking at a website titled {website.title}\"\n",
    "    user_prompt += \"The contents of this website is as follows; \\\n",
    "please provide a short summary of this website in markdown. \\\n",
    "If it includes news or announcements, then summarize these too.\\n\\n\"\n",
    "    user_prompt += website.text\n",
    "    return user_prompt"
   ]
  },
  {
   "cell_type": "markdown",
   "id": "ea211b5f-28e1-4a86-8e52-c0b7677cadcc",
   "metadata": {},
   "source": [
    "## Messages\n",
    "\n",
    "The API from OpenAI expects to receive messages in a particular structure.\n",
    "Many of the other APIs share this structure:\n",
    "\n",
    "```\n",
    "[\n",
    "    {\"role\": \"system\", \"content\": \"system message goes here\"},\n",
    "    {\"role\": \"user\", \"content\": \"user message goes here\"}\n",
    "]"
   ]
  },
  {
   "cell_type": "code",
   "execution_count": 19,
   "id": "0134dfa4-8299-48b5-b444-f2a8c3403c88",
   "metadata": {},
   "outputs": [],
   "source": [
    "def messages_for(website):\n",
    "    return [\n",
    "        {\"role\": \"system\", \"content\": system_prompt},\n",
    "        {\"role\": \"user\", \"content\": user_prompt_for(website)}\n",
    "    ]"
   ]
  },
  {
   "cell_type": "markdown",
   "id": "16f49d46-bf55-4c3e-928f-68fc0bf715b0",
   "metadata": {},
   "source": [
    "## Time to bring it together - the API for OpenAI is very simple!"
   ]
  },
  {
   "cell_type": "code",
   "execution_count": 20,
   "id": "905b9919-aba7-45b5-ae65-81b3d1d78e34",
   "metadata": {},
   "outputs": [],
   "source": [
    "def summarize(url):\n",
    "    website = Website(url)\n",
    "    response = openai.chat.completions.create(\n",
    "        model = \"gpt-4o-mini\",\n",
    "        messages = messages_for(website)\n",
    "    )\n",
    "    return response.choices[0].message.content"
   ]
  },
  {
   "cell_type": "code",
   "execution_count": 11,
   "id": "05e38d41-dfa4-4b20-9c96-c46ea75d9fb5",
   "metadata": {},
   "outputs": [
    {
     "data": {
      "text/plain": [
       "'# Summary of \"What is AWS? – Learning Portfolio\"\\n\\nThis website serves as a comprehensive learning resource about Amazon Web Services (AWS) and cloud computing. It includes sections on AWS fundamentals, global infrastructure, security models, and various AWS services such as compute, storage, and databases. Key topics covered include:\\n\\n- **Introduction to AWS and Cloud Computing**: Defines cloud computing and its advantages over traditional on-premises infrastructure, emphasizing the ability to save time and resources.\\n- **Benefits of Cloud Computing**: Discusses six primary benefits, including:\\n  - Pay-as-you-go pricing\\n  - Economies of scale\\n  - Elimination of capacity guessing\\n  - Increased speed and agility\\n  - Focus on core business activities\\n  - Global deployment capabilities\\n- **AWS Services Overview**: Detailed insights into various AWS services, including Amazon EC2, AWS Lambda, VPC, RDS, S3, and more. It also covers monitoring tools like CloudWatch, cost management, and support options.\\n\\nAdditionally, the website features a section for workshops related to AWS, offering practical training to enhance learning.\\n\\nThe content is designed for both beginners and advanced users looking to understand AWS\\'s capabilities and optimize their cloud strategies.'"
      ]
     },
     "execution_count": 11,
     "metadata": {},
     "output_type": "execute_result"
    }
   ],
   "source": [
    "summarize(\"https://www.catvy.blog/overview-and-security/introduction\")"
   ]
  },
  {
   "cell_type": "code",
   "execution_count": 21,
   "id": "3d926d59-450e-4609-92ba-2d6f244f1342",
   "metadata": {},
   "outputs": [],
   "source": [
    "def display_summary(url):\n",
    "    summary = summarize(url)\n",
    "    display(Markdown(summary))"
   ]
  },
  {
   "cell_type": "code",
   "execution_count": 13,
   "id": "3018853a-445f-41ff-9560-d925d1774b2f",
   "metadata": {},
   "outputs": [
    {
     "data": {
      "text/markdown": [
       "# Summary of \"What is AWS? – Learning Portfolio\"\n",
       "\n",
       "The website provides an extensive overview of Amazon Web Services (AWS) and its benefits, particularly focusing on cloud computing. It explains the concept of cloud computing as the on-demand delivery of IT resources over the internet, eliminating the need for organizations to maintain their own hardware, thus saving costs and time.\n",
       "\n",
       "## Key Topics Covered:\n",
       "- **Introduction to AWS**:\n",
       "  - AWS provides cloud computing services, allowing businesses to scale and operate without the burden of physical infrastructure.\n",
       "  \n",
       "- **Benefits of Cloud Computing**:\n",
       "  1. **Pay-As-You-Go Pricing**: Users pay only for the resources they use.\n",
       "  2. **Massive Economies of Scale**: Cost reduction through aggregated usage among customers.\n",
       "  3. **Capacity Management**: No need to guess infrastructure needs; scale as necessary.\n",
       "  4. **Increased Speed and Agility**: Quick resource availability enhances organizational agility.\n",
       "  5. **Reduced Infrastructure Management**: Focus on business activities, not on hardware maintenance.\n",
       "  6. **Global Deployment**: Easily deploy applications across various regions for improved customer experience.\n",
       "\n",
       "## AWS Infrastructure and Security:\n",
       "- Overview of the AWS global infrastructure and the shared responsibility model for security.\n",
       "- Discussion on AWS Identity and Access Management (IAM), compliance, and additional security services.\n",
       "\n",
       "## Workshops and Learning Materials:\n",
       "- The website mentions various AWS workshops and tutorials, providing practical sessions for learning AWS features and services.\n",
       "\n",
       "Overall, the site serves as a comprehensive resource for understanding AWS, its services, and its role in modern cloud computing."
      ],
      "text/plain": [
       "<IPython.core.display.Markdown object>"
      ]
     },
     "metadata": {},
     "output_type": "display_data"
    }
   ],
   "source": [
    "display_summary(\"https://www.catvy.blog/overview-and-security/introduction\")"
   ]
  },
  {
   "cell_type": "code",
   "execution_count": 14,
   "id": "45d83403-a24c-44b5-84ac-961449b4008f",
   "metadata": {},
   "outputs": [
    {
     "data": {
      "text/markdown": [
       "# CNN Website Summary\n",
       "\n",
       "CNN provides breaking news and analysis from various topics including US and world events, politics, business, health, entertainment, science, and sports. The site features live updates and detailed reports on significant global events, including ongoing conflicts such as the Israel-Hamas and Ukraine-Russia wars.\n",
       "\n",
       "## Recent Highlights:\n",
       "- **US Politics**: Analysis of Vice President Kamala Harris's campaign strategies against Republican nominees, and updates on the ongoing election dynamics.\n",
       "- **International Affairs**: Reports on Israeli airstrikes in Gaza and reactions to significant events like the death of key figures in the conflict.\n",
       "- **Cultural News**: Coverage of pop culture events, including celebrity legal issues and insights into lifestyle changes.\n",
       "- **Sports**: Updates on various sports events, including NFL games and recent achievements in international competitions.\n",
       "\n",
       "The site also includes video content, opinion pieces, and diverse coverage on climate, wellness, and technology trends impacting society."
      ],
      "text/plain": [
       "<IPython.core.display.Markdown object>"
      ]
     },
     "metadata": {},
     "output_type": "display_data"
    }
   ],
   "source": [
    "display_summary(\"https://cnn.com\")"
   ]
  },
  {
   "cell_type": "code",
   "execution_count": 15,
   "id": "75e9fd40-b354-4341-991e-863ef2e59db7",
   "metadata": {},
   "outputs": [
    {
     "data": {
      "text/markdown": [
       "# Summary of Anthropic Website\n",
       "\n",
       "Anthropic is an AI safety and research company based in San Francisco, focused on developing reliable and beneficial AI systems with a strong emphasis on safety. The website features information about their AI model, Claude, and highlights their commitment to rigorous research in the field of artificial intelligence.\n",
       "\n",
       "## Notable Announcements\n",
       "- **Claude 3.5 Sonnet**: Launched on June 21, 2024, this is the latest and most intelligent AI model from Anthropic.\n",
       "- **Research Publications**:\n",
       "  - **Constitutional AI: Harmlessness from AI Feedback**: Released on December 15, 2022.\n",
       "  - **Core Views on AI Safety: When, Why, What, and How**: Published on March 8, 2023.\n",
       "\n",
       "Additionally, the website encourages businesses to utilize their API to enhance efficiency and develop new revenue streams. The team at Anthropic is interdisciplinary, combining expertise from machine learning, physics, policy, and product development."
      ],
      "text/plain": [
       "<IPython.core.display.Markdown object>"
      ]
     },
     "metadata": {},
     "output_type": "display_data"
    }
   ],
   "source": [
    "display_summary(\"https://anthropic.com\")"
   ]
  },
  {
   "cell_type": "code",
   "execution_count": 22,
   "id": "09858c0d",
   "metadata": {},
   "outputs": [
    {
     "data": {
      "text/markdown": [
       "Web này nói là Cát Vy yêu Chi Vũ siêu cấp vũ trụ"
      ],
      "text/plain": [
       "<IPython.core.display.Markdown object>"
      ]
     },
     "metadata": {},
     "output_type": "display_data"
    }
   ],
   "source": [
    "display_summary(\"https://lamhoangcatvy.github.io/chi-vu\")"
   ]
  },
  {
   "cell_type": "markdown",
   "id": "c951be1a-7f1b-448f-af1f-845978e47e2c",
   "metadata": {},
   "source": [
    "## Business Applications\n",
    "\n",
    "In this exercise, you experienced calling the API of a Frontier Model (a leading model at the frontier of AI) for the first time. This is broadly applicable across Gen AI use cases and we will be using APIs like OpenAI at many stages in the course, in addition to building our own LLMs.\n",
    "\n",
    "More specifically, we've applied this to Summarization - a classic Gen AI use case to make a summary. This can be applied to any business vertical - summarizing the news, summarizing financial performance, summarizing a resume in a cover letter - the applications are limitless. Consider how you could apply Summarization in your business, and try prototyping a solution."
   ]
  },
  {
   "cell_type": "markdown",
   "id": "36ed9f14-b349-40e9-a42c-b367e77f8bda",
   "metadata": {},
   "source": [
    "## An extra exercise for those who enjoy web scraping\n",
    "\n",
    "You may notice that if you try `display_summary(\"https://openai.com\")` - it doesn't work! That's because OpenAI has a fancy website that uses Javascript. There are many ways around this that some of you might be familiar with. For example, Selenium is a hugely popular framework that runs a browser behind the scenes, renders the page, and allows you to query it. If you have experience with Selenium, Playwright or similar, then feel free to improve the Website class to use them."
   ]
  },
  {
   "cell_type": "markdown",
   "id": "eeab24dc-5f90-4570-b542-b0585aca3eb6",
   "metadata": {},
   "source": [
    "# Sharing your code\n",
    "\n",
    "I'd love it if you share your code afterwards so I can share it with others! You'll notice that some students have already made changes (including a Selenium implementation) which you will find in the community-contributions folder. If you'd like add your changes to that folder, submit a Pull Request with your new versions in that folder and I'll merge your changes.\n",
    "\n",
    "If you're not an expert with git (and I am not!) then GPT has given some nice instructions on how to submit a Pull Request. It's a bit of an involved process, but once you've done it once it's pretty clear. As a pro-tip: it's best if you clear the outputs of your Jupyter notebooks (Edit >> Clean outputs of all cells, and then Save) for clean notebooks.\n",
    "\n",
    "PR instructions courtesy of an AI friend: https://chatgpt.com/share/670145d5-e8a8-8012-8f93-39ee4e248b4c"
   ]
  },
  {
   "cell_type": "code",
   "execution_count": null,
   "id": "682eff74-55c4-4d4b-b267-703edbc293c7",
   "metadata": {},
   "outputs": [],
   "source": []
  }
 ],
 "metadata": {
  "kernelspec": {
   "display_name": "env",
   "language": "python",
   "name": "python3"
  },
  "language_info": {
   "codemirror_mode": {
    "name": "ipython",
    "version": 3
   },
   "file_extension": ".py",
   "mimetype": "text/x-python",
   "name": "python",
   "nbconvert_exporter": "python",
   "pygments_lexer": "ipython3",
   "version": "3.12.1"
  }
 },
 "nbformat": 4,
 "nbformat_minor": 5
}
